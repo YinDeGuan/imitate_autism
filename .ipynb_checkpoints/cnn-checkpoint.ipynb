{
 "cells": [
  {
   "cell_type": "code",
   "execution_count": 4,
   "id": "09b08c4c",
   "metadata": {},
   "outputs": [
    {
     "name": "stdout",
     "output_type": "stream",
     "text": [
      "g\n",
      "tensor([[5.4838e-01, 4.1804e-01, 8.0209e-01, 2.7639e-01, 2.5658e-01, 3.2282e-01,\n",
      "         3.9055e-01, 3.7992e-01, 1.6899e-01, 1.1898e-01, 8.6353e-01, 6.5161e-01,\n",
      "         6.2981e-01, 4.0826e-01, 7.8543e-01, 8.6427e-01, 2.5516e-01, 9.5200e-01,\n",
      "         2.5169e-01, 4.6576e-01],\n",
      "        [2.5588e-01, 8.5159e-01, 6.3731e-01, 4.7695e-01, 7.9726e-01, 5.6932e-01,\n",
      "         9.2911e-02, 3.9161e-01, 7.3508e-01, 1.2604e-01, 8.3660e-01, 6.1969e-01,\n",
      "         2.8342e-04, 8.9708e-01, 2.9497e-01, 8.8246e-01, 7.5422e-01, 9.5942e-01,\n",
      "         1.1657e-01, 1.4408e-01]])\n",
      "tensor([[ 0.2408, -0.0823,  0.0066, -0.2149, -0.1006, -0.0033,  0.0748,  0.0095,\n",
      "         -0.1106,  0.0284],\n",
      "        [ 0.2735, -0.0518,  0.0381, -0.1674, -0.0664, -0.1545,  0.0465,  0.0399,\n",
      "         -0.0750, -0.0460]], grad_fn=<AddmmBackward0>)\n",
      "g\n"
     ]
    }
   ],
   "source": [
    "\n",
    "\n",
    "import torch\n",
    "\n",
    "\n",
    "class MLP(torch.nn.Module) :\n",
    "    def __init__(self) :\n",
    "        super().__init__()\n",
    "        self.hidden = torch.nn.Linear(20,256)\n",
    "        self.out = torch.nn.Linear(256,10)\n",
    "        \n",
    "    \n",
    "    def forward(self , X) :\n",
    "        return self.out(torch.nn.functional.relu(self.hidden(X)))\n",
    "        #Linear be class , and overflow the opearator ()\n",
    "\n",
    "class MySequential(torch.nn.Module) :\n",
    "    def __init__(self , *args) :\n",
    "        super().__init__()\n",
    "        for idx , module in enumerate(args) :\n",
    "            self._modules[str(idx)] = module\n",
    "            # _modules defined by super class \n",
    "            \n",
    "    def forward(self , X) :\n",
    "        for block in self._modules.values() :\n",
    "            X = block(X)\n",
    "        return X\n",
    "        \n",
    "def argus_mana() :\n",
    "    \n",
    "if __name__ == \"__main__\" :\n",
    "    print(\"g\")\n",
    "    net = MLP()\n",
    "    X = torch.rand(2,20) # rand return value between 0 ~ 1 \n",
    "    print(X)\n",
    "    print(net(X))\n",
    "    print(\"g\")"
   ]
  }
 ],
 "metadata": {
  "kernelspec": {
   "display_name": "Python 3 (ipykernel)",
   "language": "python",
   "name": "python3"
  },
  "language_info": {
   "codemirror_mode": {
    "name": "ipython",
    "version": 3
   },
   "file_extension": ".py",
   "mimetype": "text/x-python",
   "name": "python",
   "nbconvert_exporter": "python",
   "pygments_lexer": "ipython3",
   "version": "3.9.13"
  }
 },
 "nbformat": 4,
 "nbformat_minor": 5
}
